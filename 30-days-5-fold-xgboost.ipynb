{
 "cells": [
  {
   "cell_type": "code",
   "execution_count": 1,
   "id": "1bc4e827",
   "metadata": {
    "_cell_guid": "b1076dfc-b9ad-4769-8c92-a6c4dae69d19",
    "_uuid": "8f2839f25d086af736a60e9eeb907d3b93b6e0e5",
    "execution": {
     "iopub.execute_input": "2021-08-25T19:15:11.637841Z",
     "iopub.status.busy": "2021-08-25T19:15:11.634473Z",
     "iopub.status.idle": "2021-08-25T19:15:13.224153Z",
     "shell.execute_reply": "2021-08-25T19:15:13.223600Z",
     "shell.execute_reply.started": "2021-08-25T19:14:36.348754Z"
    },
    "papermill": {
     "duration": 1.607537,
     "end_time": "2021-08-25T19:15:13.224332",
     "exception": false,
     "start_time": "2021-08-25T19:15:11.616795",
     "status": "completed"
    },
    "tags": []
   },
   "outputs": [],
   "source": [
    "import numpy as np\n",
    "import pandas as pd\n",
    "\n",
    "from sklearn.model_selection import KFold\n",
    "from sklearn.preprocessing import OrdinalEncoder\n",
    "from sklearn.metrics import mean_squared_error\n",
    "\n",
    "from xgboost import XGBRegressor\n",
    "\n",
    "import optuna"
   ]
  },
  {
   "cell_type": "markdown",
   "id": "abbc3132",
   "metadata": {
    "papermill": {
     "duration": 0.008459,
     "end_time": "2021-08-25T19:15:13.241795",
     "exception": false,
     "start_time": "2021-08-25T19:15:13.233336",
     "status": "completed"
    },
    "tags": []
   },
   "source": [
    "### Load the train and test data"
   ]
  },
  {
   "cell_type": "code",
   "execution_count": 2,
   "id": "5964c263",
   "metadata": {
    "execution": {
     "iopub.execute_input": "2021-08-25T19:15:13.263057Z",
     "iopub.status.busy": "2021-08-25T19:15:13.262550Z",
     "iopub.status.idle": "2021-08-25T19:15:16.753558Z",
     "shell.execute_reply": "2021-08-25T19:15:16.752587Z",
     "shell.execute_reply.started": "2021-08-25T19:14:37.050937Z"
    },
    "papermill": {
     "duration": 3.503302,
     "end_time": "2021-08-25T19:15:16.753704",
     "exception": false,
     "start_time": "2021-08-25T19:15:13.250402",
     "status": "completed"
    },
    "tags": []
   },
   "outputs": [],
   "source": [
    "df_train = pd.read_csv('../input/30-days-of-ml/train.csv',index_col=0)\n",
    "df_test = pd.read_csv('../input/30-days-of-ml/test.csv',index_col=0)"
   ]
  },
  {
   "cell_type": "markdown",
   "id": "f46df7ab",
   "metadata": {
    "papermill": {
     "duration": 0.008871,
     "end_time": "2021-08-25T19:15:16.771816",
     "exception": false,
     "start_time": "2021-08-25T19:15:16.762945",
     "status": "completed"
    },
    "tags": []
   },
   "source": [
    "### Data overview"
   ]
  },
  {
   "cell_type": "code",
   "execution_count": 3,
   "id": "d58eab93",
   "metadata": {
    "execution": {
     "iopub.execute_input": "2021-08-25T19:15:16.797157Z",
     "iopub.status.busy": "2021-08-25T19:15:16.796375Z",
     "iopub.status.idle": "2021-08-25T19:15:16.822393Z",
     "shell.execute_reply": "2021-08-25T19:15:16.822801Z",
     "shell.execute_reply.started": "2021-08-25T19:14:39.064307Z"
    },
    "papermill": {
     "duration": 0.042407,
     "end_time": "2021-08-25T19:15:16.822926",
     "exception": false,
     "start_time": "2021-08-25T19:15:16.780519",
     "status": "completed"
    },
    "tags": []
   },
   "outputs": [
    {
     "data": {
      "text/html": [
       "<div>\n",
       "<style scoped>\n",
       "    .dataframe tbody tr th:only-of-type {\n",
       "        vertical-align: middle;\n",
       "    }\n",
       "\n",
       "    .dataframe tbody tr th {\n",
       "        vertical-align: top;\n",
       "    }\n",
       "\n",
       "    .dataframe thead th {\n",
       "        text-align: right;\n",
       "    }\n",
       "</style>\n",
       "<table border=\"1\" class=\"dataframe\">\n",
       "  <thead>\n",
       "    <tr style=\"text-align: right;\">\n",
       "      <th></th>\n",
       "      <th>cat0</th>\n",
       "      <th>cat1</th>\n",
       "      <th>cat2</th>\n",
       "      <th>cat3</th>\n",
       "      <th>cat4</th>\n",
       "      <th>cat5</th>\n",
       "      <th>cat6</th>\n",
       "      <th>cat7</th>\n",
       "      <th>cat8</th>\n",
       "      <th>cat9</th>\n",
       "      <th>...</th>\n",
       "      <th>cont5</th>\n",
       "      <th>cont6</th>\n",
       "      <th>cont7</th>\n",
       "      <th>cont8</th>\n",
       "      <th>cont9</th>\n",
       "      <th>cont10</th>\n",
       "      <th>cont11</th>\n",
       "      <th>cont12</th>\n",
       "      <th>cont13</th>\n",
       "      <th>target</th>\n",
       "    </tr>\n",
       "    <tr>\n",
       "      <th>id</th>\n",
       "      <th></th>\n",
       "      <th></th>\n",
       "      <th></th>\n",
       "      <th></th>\n",
       "      <th></th>\n",
       "      <th></th>\n",
       "      <th></th>\n",
       "      <th></th>\n",
       "      <th></th>\n",
       "      <th></th>\n",
       "      <th></th>\n",
       "      <th></th>\n",
       "      <th></th>\n",
       "      <th></th>\n",
       "      <th></th>\n",
       "      <th></th>\n",
       "      <th></th>\n",
       "      <th></th>\n",
       "      <th></th>\n",
       "      <th></th>\n",
       "      <th></th>\n",
       "    </tr>\n",
       "  </thead>\n",
       "  <tbody>\n",
       "    <tr>\n",
       "      <th>1</th>\n",
       "      <td>B</td>\n",
       "      <td>B</td>\n",
       "      <td>B</td>\n",
       "      <td>C</td>\n",
       "      <td>B</td>\n",
       "      <td>B</td>\n",
       "      <td>A</td>\n",
       "      <td>E</td>\n",
       "      <td>C</td>\n",
       "      <td>N</td>\n",
       "      <td>...</td>\n",
       "      <td>0.400361</td>\n",
       "      <td>0.160266</td>\n",
       "      <td>0.310921</td>\n",
       "      <td>0.389470</td>\n",
       "      <td>0.267559</td>\n",
       "      <td>0.237281</td>\n",
       "      <td>0.377873</td>\n",
       "      <td>0.322401</td>\n",
       "      <td>0.869850</td>\n",
       "      <td>8.113634</td>\n",
       "    </tr>\n",
       "    <tr>\n",
       "      <th>2</th>\n",
       "      <td>B</td>\n",
       "      <td>B</td>\n",
       "      <td>A</td>\n",
       "      <td>A</td>\n",
       "      <td>B</td>\n",
       "      <td>D</td>\n",
       "      <td>A</td>\n",
       "      <td>F</td>\n",
       "      <td>A</td>\n",
       "      <td>O</td>\n",
       "      <td>...</td>\n",
       "      <td>0.533087</td>\n",
       "      <td>0.558922</td>\n",
       "      <td>0.516294</td>\n",
       "      <td>0.594928</td>\n",
       "      <td>0.341439</td>\n",
       "      <td>0.906013</td>\n",
       "      <td>0.921701</td>\n",
       "      <td>0.261975</td>\n",
       "      <td>0.465083</td>\n",
       "      <td>8.481233</td>\n",
       "    </tr>\n",
       "    <tr>\n",
       "      <th>3</th>\n",
       "      <td>A</td>\n",
       "      <td>A</td>\n",
       "      <td>A</td>\n",
       "      <td>C</td>\n",
       "      <td>B</td>\n",
       "      <td>D</td>\n",
       "      <td>A</td>\n",
       "      <td>D</td>\n",
       "      <td>A</td>\n",
       "      <td>F</td>\n",
       "      <td>...</td>\n",
       "      <td>0.650609</td>\n",
       "      <td>0.375348</td>\n",
       "      <td>0.902567</td>\n",
       "      <td>0.555205</td>\n",
       "      <td>0.843531</td>\n",
       "      <td>0.748809</td>\n",
       "      <td>0.620126</td>\n",
       "      <td>0.541474</td>\n",
       "      <td>0.763846</td>\n",
       "      <td>8.364351</td>\n",
       "    </tr>\n",
       "    <tr>\n",
       "      <th>4</th>\n",
       "      <td>B</td>\n",
       "      <td>B</td>\n",
       "      <td>A</td>\n",
       "      <td>C</td>\n",
       "      <td>B</td>\n",
       "      <td>D</td>\n",
       "      <td>A</td>\n",
       "      <td>E</td>\n",
       "      <td>C</td>\n",
       "      <td>K</td>\n",
       "      <td>...</td>\n",
       "      <td>0.668980</td>\n",
       "      <td>0.239061</td>\n",
       "      <td>0.732948</td>\n",
       "      <td>0.679618</td>\n",
       "      <td>0.574844</td>\n",
       "      <td>0.346010</td>\n",
       "      <td>0.714610</td>\n",
       "      <td>0.540150</td>\n",
       "      <td>0.280682</td>\n",
       "      <td>8.049253</td>\n",
       "    </tr>\n",
       "    <tr>\n",
       "      <th>6</th>\n",
       "      <td>A</td>\n",
       "      <td>A</td>\n",
       "      <td>A</td>\n",
       "      <td>C</td>\n",
       "      <td>B</td>\n",
       "      <td>D</td>\n",
       "      <td>A</td>\n",
       "      <td>E</td>\n",
       "      <td>A</td>\n",
       "      <td>N</td>\n",
       "      <td>...</td>\n",
       "      <td>0.686964</td>\n",
       "      <td>0.420667</td>\n",
       "      <td>0.648182</td>\n",
       "      <td>0.684501</td>\n",
       "      <td>0.956692</td>\n",
       "      <td>1.000773</td>\n",
       "      <td>0.776742</td>\n",
       "      <td>0.625849</td>\n",
       "      <td>0.250823</td>\n",
       "      <td>7.972260</td>\n",
       "    </tr>\n",
       "  </tbody>\n",
       "</table>\n",
       "<p>5 rows × 25 columns</p>\n",
       "</div>"
      ],
      "text/plain": [
       "   cat0 cat1 cat2 cat3 cat4 cat5 cat6 cat7 cat8 cat9  ...     cont5     cont6  \\\n",
       "id                                                    ...                       \n",
       "1     B    B    B    C    B    B    A    E    C    N  ...  0.400361  0.160266   \n",
       "2     B    B    A    A    B    D    A    F    A    O  ...  0.533087  0.558922   \n",
       "3     A    A    A    C    B    D    A    D    A    F  ...  0.650609  0.375348   \n",
       "4     B    B    A    C    B    D    A    E    C    K  ...  0.668980  0.239061   \n",
       "6     A    A    A    C    B    D    A    E    A    N  ...  0.686964  0.420667   \n",
       "\n",
       "       cont7     cont8     cont9    cont10    cont11    cont12    cont13  \\\n",
       "id                                                                         \n",
       "1   0.310921  0.389470  0.267559  0.237281  0.377873  0.322401  0.869850   \n",
       "2   0.516294  0.594928  0.341439  0.906013  0.921701  0.261975  0.465083   \n",
       "3   0.902567  0.555205  0.843531  0.748809  0.620126  0.541474  0.763846   \n",
       "4   0.732948  0.679618  0.574844  0.346010  0.714610  0.540150  0.280682   \n",
       "6   0.648182  0.684501  0.956692  1.000773  0.776742  0.625849  0.250823   \n",
       "\n",
       "      target  \n",
       "id            \n",
       "1   8.113634  \n",
       "2   8.481233  \n",
       "3   8.364351  \n",
       "4   8.049253  \n",
       "6   7.972260  \n",
       "\n",
       "[5 rows x 25 columns]"
      ]
     },
     "execution_count": 3,
     "metadata": {},
     "output_type": "execute_result"
    }
   ],
   "source": [
    "df_train.head()"
   ]
  },
  {
   "cell_type": "code",
   "execution_count": 4,
   "id": "24d666a8",
   "metadata": {
    "execution": {
     "iopub.execute_input": "2021-08-25T19:15:16.846782Z",
     "iopub.status.busy": "2021-08-25T19:15:16.845883Z",
     "iopub.status.idle": "2021-08-25T19:15:17.117109Z",
     "shell.execute_reply": "2021-08-25T19:15:17.117909Z",
     "shell.execute_reply.started": "2021-08-25T19:14:39.100254Z"
    },
    "papermill": {
     "duration": 0.285409,
     "end_time": "2021-08-25T19:15:17.118140",
     "exception": false,
     "start_time": "2021-08-25T19:15:16.832731",
     "status": "completed"
    },
    "tags": []
   },
   "outputs": [
    {
     "name": "stdout",
     "output_type": "stream",
     "text": [
      "<class 'pandas.core.frame.DataFrame'>\n",
      "Int64Index: 300000 entries, 1 to 499999\n",
      "Data columns (total 25 columns):\n",
      " #   Column  Non-Null Count   Dtype  \n",
      "---  ------  --------------   -----  \n",
      " 0   cat0    300000 non-null  object \n",
      " 1   cat1    300000 non-null  object \n",
      " 2   cat2    300000 non-null  object \n",
      " 3   cat3    300000 non-null  object \n",
      " 4   cat4    300000 non-null  object \n",
      " 5   cat5    300000 non-null  object \n",
      " 6   cat6    300000 non-null  object \n",
      " 7   cat7    300000 non-null  object \n",
      " 8   cat8    300000 non-null  object \n",
      " 9   cat9    300000 non-null  object \n",
      " 10  cont0   300000 non-null  float64\n",
      " 11  cont1   300000 non-null  float64\n",
      " 12  cont2   300000 non-null  float64\n",
      " 13  cont3   300000 non-null  float64\n",
      " 14  cont4   300000 non-null  float64\n",
      " 15  cont5   300000 non-null  float64\n",
      " 16  cont6   300000 non-null  float64\n",
      " 17  cont7   300000 non-null  float64\n",
      " 18  cont8   300000 non-null  float64\n",
      " 19  cont9   300000 non-null  float64\n",
      " 20  cont10  300000 non-null  float64\n",
      " 21  cont11  300000 non-null  float64\n",
      " 22  cont12  300000 non-null  float64\n",
      " 23  cont13  300000 non-null  float64\n",
      " 24  target  300000 non-null  float64\n",
      "dtypes: float64(15), object(10)\n",
      "memory usage: 59.5+ MB\n"
     ]
    }
   ],
   "source": [
    "df_train.info()"
   ]
  },
  {
   "cell_type": "markdown",
   "id": "ef74a00d",
   "metadata": {
    "papermill": {
     "duration": 0.0097,
     "end_time": "2021-08-25T19:15:17.139022",
     "exception": false,
     "start_time": "2021-08-25T19:15:17.129322",
     "status": "completed"
    },
    "tags": []
   },
   "source": [
    "**-> The dataset consists of numerical and categorical features without any missing values.**"
   ]
  },
  {
   "cell_type": "code",
   "execution_count": 5,
   "id": "bcd983dd",
   "metadata": {
    "execution": {
     "iopub.execute_input": "2021-08-25T19:15:17.164205Z",
     "iopub.status.busy": "2021-08-25T19:15:17.162809Z",
     "iopub.status.idle": "2021-08-25T19:15:17.218745Z",
     "shell.execute_reply": "2021-08-25T19:15:17.218258Z",
     "shell.execute_reply.started": "2021-08-25T19:14:39.374815Z"
    },
    "papermill": {
     "duration": 0.070382,
     "end_time": "2021-08-25T19:15:17.218875",
     "exception": false,
     "start_time": "2021-08-25T19:15:17.148493",
     "status": "completed"
    },
    "tags": []
   },
   "outputs": [],
   "source": [
    "# Generating X and y\n",
    "\n",
    "X_train = df_train.drop('target', axis=1)\n",
    "y_train = df_train.target\n",
    "\n",
    "X_test = df_test.copy()"
   ]
  },
  {
   "cell_type": "markdown",
   "id": "b761cc39",
   "metadata": {
    "papermill": {
     "duration": 0.009506,
     "end_time": "2021-08-25T19:15:17.238468",
     "exception": false,
     "start_time": "2021-08-25T19:15:17.228962",
     "status": "completed"
    },
    "tags": []
   },
   "source": [
    "### Encoding Cat features"
   ]
  },
  {
   "cell_type": "code",
   "execution_count": 6,
   "id": "5767e2b7",
   "metadata": {
    "execution": {
     "iopub.execute_input": "2021-08-25T19:15:17.335545Z",
     "iopub.status.busy": "2021-08-25T19:15:17.303992Z",
     "iopub.status.idle": "2021-08-25T19:15:20.548478Z",
     "shell.execute_reply": "2021-08-25T19:15:20.547970Z",
     "shell.execute_reply.started": "2021-08-25T19:14:39.438299Z"
    },
    "papermill": {
     "duration": 3.300532,
     "end_time": "2021-08-25T19:15:20.548600",
     "exception": false,
     "start_time": "2021-08-25T19:15:17.248068",
     "status": "completed"
    },
    "tags": []
   },
   "outputs": [],
   "source": [
    "# Separating Categorical and Numerical features\n",
    "cat_col = X_train.select_dtypes(include='object').columns\n",
    "num_col = X_train.select_dtypes(include='float64').columns\n",
    "\n",
    "# Ordinal-Encoding for Categorical variables\n",
    "encoder = OrdinalEncoder()\n",
    "X_train[cat_col] = encoder.fit_transform(X_train[cat_col])\n",
    "X_test[cat_col] = encoder.transform(X_test[cat_col])"
   ]
  },
  {
   "cell_type": "markdown",
   "id": "71f62af3",
   "metadata": {
    "execution": {
     "iopub.execute_input": "2021-08-21T13:05:44.89483Z",
     "iopub.status.busy": "2021-08-21T13:05:44.892518Z",
     "iopub.status.idle": "2021-08-21T13:05:48.486418Z",
     "shell.execute_reply": "2021-08-21T13:05:48.485489Z",
     "shell.execute_reply.started": "2021-08-21T13:05:44.894783Z"
    },
    "papermill": {
     "duration": 0.00938,
     "end_time": "2021-08-25T19:15:20.567768",
     "exception": false,
     "start_time": "2021-08-25T19:15:20.558388",
     "status": "completed"
    },
    "tags": []
   },
   "source": [
    "### Target prediction using XGBoost"
   ]
  },
  {
   "cell_type": "code",
   "execution_count": 7,
   "id": "08c9969d",
   "metadata": {
    "execution": {
     "iopub.execute_input": "2021-08-25T19:15:20.593827Z",
     "iopub.status.busy": "2021-08-25T19:15:20.593117Z",
     "iopub.status.idle": "2021-08-25T19:15:28.217640Z",
     "shell.execute_reply": "2021-08-25T19:15:28.218494Z",
     "shell.execute_reply.started": "2021-08-25T19:14:42.856012Z"
    },
    "papermill": {
     "duration": 7.64149,
     "end_time": "2021-08-25T19:15:28.218671",
     "exception": false,
     "start_time": "2021-08-25T19:15:20.577181",
     "status": "completed"
    },
    "tags": []
   },
   "outputs": [
    {
     "name": "stdout",
     "output_type": "stream",
     "text": [
      "Fold 0: 0.72671\n",
      "Fold 1: 0.72438\n",
      "Fold 2: 0.72902\n",
      "Fold 3: 0.72271\n",
      "Fold 4: 0.72364\n"
     ]
    }
   ],
   "source": [
    "# Splitting parameters\n",
    "n_splits = 5\n",
    "kf = KFold(n_splits, shuffle=True, random_state=0)\n",
    "\n",
    "\n",
    "# Generating and Modeling for each fold\n",
    "pred_test=0\n",
    "for fold, (train_indx, valid_indx) in enumerate(kf.split(X_train)):\n",
    "    \n",
    "    # Preparing X and y for regressor\n",
    "    X_train_fold = X_train.iloc[train_indx]\n",
    "    y_train_fold = y_train.iloc[train_indx]\n",
    "    \n",
    "    X_valid_fold = X_train.iloc[valid_indx]\n",
    "    y_valid_fold = y_train.iloc[valid_indx]\n",
    "    \n",
    "    # Modeling using XGBoost\n",
    "    model=XGBRegressor(tree_method = 'gpu_hist')\n",
    "    model.fit(X_train_fold, y_train_fold,verbose=False)\n",
    "    \n",
    "    # Predicting & reporting targets for validation folds\n",
    "    pred_valid_fold = model.predict(X_valid_fold)\n",
    "    RMSE_fold = mean_squared_error(pred_valid_fold, y_valid_fold, squared=False)  \n",
    "    print(f'Fold {fold}: {RMSE_fold:.5f}')\n",
    "    \n",
    "    # Predicting targets for test dataset:\n",
    "    pred_test_fold = model.predict(X_test)\n",
    "    pred_test += pred_test_fold/n_splits"
   ]
  },
  {
   "cell_type": "code",
   "execution_count": 8,
   "id": "45cd0ca8",
   "metadata": {
    "execution": {
     "iopub.execute_input": "2021-08-25T19:15:28.247593Z",
     "iopub.status.busy": "2021-08-25T19:15:28.246775Z",
     "iopub.status.idle": "2021-08-25T19:15:28.631054Z",
     "shell.execute_reply": "2021-08-25T19:15:28.631478Z",
     "shell.execute_reply.started": "2021-08-25T19:14:49.479837Z"
    },
    "papermill": {
     "duration": 0.399775,
     "end_time": "2021-08-25T19:15:28.631622",
     "exception": false,
     "start_time": "2021-08-25T19:15:28.231847",
     "status": "completed"
    },
    "tags": []
   },
   "outputs": [
    {
     "data": {
      "text/plain": [
       "<AxesSubplot:>"
      ]
     },
     "execution_count": 8,
     "metadata": {},
     "output_type": "execute_result"
    },
    {
     "data": {
      "image/png": "[encoded data removed]",
      "text/plain": [
       "<Figure size 432x288 with 1 Axes>"
      ]
     },
     "metadata": {
      "needs_background": "light"
     },
     "output_type": "display_data"
    }
   ],
   "source": [
    "# Feature Importance\n",
    "pd.Series(data=model.feature_importances_,\n",
    "         index=X_train.columns).sort_values(ascending=False).plot.bar()"
   ]
  },
  {
   "cell_type": "code",
   "execution_count": 9,
   "id": "d37b8c72",
   "metadata": {
    "execution": {
     "iopub.execute_input": "2021-08-25T19:15:28.660702Z",
     "iopub.status.busy": "2021-08-25T19:15:28.660176Z",
     "iopub.status.idle": "2021-08-25T19:15:29.140802Z",
     "shell.execute_reply": "2021-08-25T19:15:29.140328Z",
     "shell.execute_reply.started": "2021-08-25T19:14:49.899348Z"
    },
    "papermill": {
     "duration": 0.497264,
     "end_time": "2021-08-25T19:15:29.140928",
     "exception": false,
     "start_time": "2021-08-25T19:15:28.643664",
     "status": "completed"
    },
    "tags": []
   },
   "outputs": [],
   "source": [
    "# Save the predictions to a CSV file\n",
    "output = pd.DataFrame({'Id': X_test.index,\n",
    "                       'target': pred_test})\n",
    "output.to_csv('submission.csv', index=False)"
   ]
  }
 ],
 "metadata": {
  "kernelspec": {
   "display_name": "Python 3",
   "language": "python",
   "name": "python3"
  },
  "language_info": {
   "codemirror_mode": {
    "name": "ipython",
    "version": 3
   },
   "file_extension": ".py",
   "mimetype": "text/x-python",
   "name": "python",
   "nbconvert_exporter": "python",
   "pygments_lexer": "ipython3",
   "version": "3.7.10"
  },
  "papermill": {
   "default_parameters": {},
   "duration": 25.659041,
   "end_time": "2021-08-25T19:15:30.650257",
   "environment_variables": {},
   "exception": null,
   "input_path": "__notebook__.ipynb",
   "output_path": "__notebook__.ipynb",
   "parameters": {},
   "start_time": "2021-08-25T19:15:04.991216",
   "version": "2.3.3"
  }
 },
 "nbformat": 4,
 "nbformat_minor": 5
}
